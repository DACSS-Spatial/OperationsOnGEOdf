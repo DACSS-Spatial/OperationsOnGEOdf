{
 "cells": [
  {
   "cell_type": "markdown",
   "id": "f8746832",
   "metadata": {
    "id": "f8746832"
   },
   "source": [
    "<center><img src=\"https://github.com/DACSS-Spatial/data_forSpatial/raw/main/logo.png\" width=\"700\"></center>\n",
    "\n"
   ]
  },
  {
   "cell_type": "markdown",
   "id": "af76d2a2",
   "metadata": {
    "id": "af76d2a2"
   },
   "source": [
    "<a target=\"_blank\" href=\"https://colab.research.google.com/github/DACSS-Spatial/OperationsOnGEOdf/blob/main/index.ipynb\">\r\n",
    "  <img src=\"https://colab.research.google.com/assets/colab-badge.svg\" alt=\"Open In Colab\"/>\r\n",
    "</a>\n",
    "\n",
    "# Basic spatial operations in  Geo Dataframes\n",
    "\n",
    "We will review some important operations for geodataframes."
   ]
  },
  {
   "cell_type": "markdown",
   "id": "244a5266",
   "metadata": {
    "id": "244a5266"
   },
   "source": [
    "Let's remember the contents of the world map from last session:\n",
    "\n",
    "<a class=\"anchor\" id=\"0\"></a>"
   ]
  },
  {
   "cell_type": "code",
   "execution_count": null,
   "id": "f5bcb405-dfc6-4b14-8499-d9e42805336d",
   "metadata": {
    "colab": {
     "base_uri": "https://localhost:8080/",
     "height": 143
    },
    "id": "f5bcb405-dfc6-4b14-8499-d9e42805336d",
    "outputId": "5a969405-6147-4637-e40f-519a2e199062"
   },
   "outputs": [],
   "source": [
    "linkWorldMap=\"https://github.com/DACSS-Spatial/data_forSpatial/raw/refs/heads/main/WORLD/worldMaps.gpkg\"\n",
    "\n",
    "import geopandas as gpd\n",
    "gpd.list_layers(linkWorldMap)"
   ]
  },
  {
   "cell_type": "markdown",
   "id": "0ea5e97e-6d16-4803-a70e-f7d5982af275",
   "metadata": {
    "id": "0ea5e97e-6d16-4803-a70e-f7d5982af275"
   },
   "source": [
    "Let's open all the layers (this takes a minute):"
   ]
  },
  {
   "cell_type": "code",
   "execution_count": null,
   "id": "fad3435e-317c-49e5-ab61-ef7261c92cfe",
   "metadata": {
    "id": "fad3435e-317c-49e5-ab61-ef7261c92cfe"
   },
   "outputs": [],
   "source": [
    "countries=gpd.read_file(linkWorldMap,layer='countries')\n",
    "rivers=gpd.read_file(linkWorldMap,layer='rivers')\n",
    "cities=gpd.read_file(linkWorldMap,layer='cities')"
   ]
  },
  {
   "cell_type": "markdown",
   "id": "c2fc940f",
   "metadata": {
    "id": "c2fc940f"
   },
   "source": [
    "\n",
    "\n",
    "Now, let's see some important spatial operations:\n",
    "\n",
    "1. [Subsetting](#1)\n",
    "2. [Combining GeoDF rows](#3)\n",
    "3. [The convex hull](#4)\n",
    "4. [Spatial Overlays](#5)\n",
    "5. [Checking Validity](#6)\n",
    "\n",
    "\n"
   ]
  },
  {
   "cell_type": "markdown",
   "id": "cbba7a88-a1b1-41d1-8aff-a1f912f964a9",
   "metadata": {
    "id": "cbba7a88-a1b1-41d1-8aff-a1f912f964a9"
   },
   "source": [
    "<a class=\"anchor\" id=\"1\"></a>\n",
    "\n",
    "# Subsetting\n",
    "\n",
    "## Filtering\n",
    "\n",
    "You can keep some elements by subsetting by *filtering*, as we used to do in common pandas data frames."
   ]
  },
  {
   "cell_type": "code",
   "execution_count": null,
   "id": "4ed1361d-8624-41eb-868c-0010ed9c9475",
   "metadata": {
    "colab": {
     "base_uri": "https://localhost:8080/",
     "height": 206
    },
    "id": "4ed1361d-8624-41eb-868c-0010ed9c9475",
    "outputId": "ba7ec566-90b2-496b-95a0-184e291f1c5f"
   },
   "outputs": [],
   "source": [
    "countries.head()"
   ]
  },
  {
   "cell_type": "code",
   "execution_count": null,
   "id": "a41ade83-f334-4d7a-ae1d-61b66e6b5b92",
   "metadata": {
    "colab": {
     "base_uri": "https://localhost:8080/",
     "height": 424
    },
    "id": "a41ade83-f334-4d7a-ae1d-61b66e6b5b92",
    "outputId": "0eb1d914-233c-4493-99ef-fd20922c7868"
   },
   "outputs": [],
   "source": [
    "# as DF\n",
    "countries.iloc[50:,]"
   ]
  },
  {
   "cell_type": "code",
   "execution_count": null,
   "id": "17e5a1bf-ee01-41b0-81f4-bfbc4657857c",
   "metadata": {
    "colab": {
     "base_uri": "https://localhost:8080/",
     "height": 458
    },
    "id": "17e5a1bf-ee01-41b0-81f4-bfbc4657857c",
    "outputId": "3bde2eef-f346-474c-f5b6-887deddefa22"
   },
   "outputs": [],
   "source": [
    "# as DF\n",
    "countries.loc[50:,'geometry']"
   ]
  },
  {
   "cell_type": "markdown",
   "id": "6a3dfc54-46a0-4531-998c-3f11c9735fec",
   "metadata": {
    "id": "6a3dfc54-46a0-4531-998c-3f11c9735fec"
   },
   "source": [
    "But as a GeDF, you can also filter using a coordinate point via __cx__. Let me get the bounding box of the map:"
   ]
  },
  {
   "cell_type": "code",
   "execution_count": null,
   "id": "80f8a267-da8a-4831-be2b-7d83bac3c595",
   "metadata": {
    "colab": {
     "base_uri": "https://localhost:8080/"
    },
    "id": "80f8a267-da8a-4831-be2b-7d83bac3c595",
    "outputId": "0abc437a-fd5d-42e9-9e5a-8ec183735ac7"
   },
   "outputs": [],
   "source": [
    "countries.total_bounds"
   ]
  },
  {
   "cell_type": "markdown",
   "id": "66a83e6d-4073-44fc-8e07-b1ddabc5582a",
   "metadata": {
    "id": "66a83e6d-4073-44fc-8e07-b1ddabc5582a"
   },
   "source": [
    "As you are getting __[minx, miny, maxx, maxy]__ let me select a valid coordinate, i.e. (0,0)"
   ]
  },
  {
   "cell_type": "code",
   "execution_count": null,
   "id": "50632acb-1595-4207-927c-ee9b4d030b83",
   "metadata": {
    "colab": {
     "base_uri": "https://localhost:8080/",
     "height": 833
    },
    "id": "50632acb-1595-4207-927c-ee9b4d030b83",
    "outputId": "19568afa-f936-4fee-ee5c-4abb1d08b942"
   },
   "outputs": [],
   "source": [
    "countries.cx[:0,:0]"
   ]
  },
  {
   "cell_type": "code",
   "execution_count": null,
   "id": "27d0e4a1-8798-45ff-b122-e81b4f613100",
   "metadata": {
    "colab": {
     "base_uri": "https://localhost:8080/",
     "height": 259
    },
    "id": "27d0e4a1-8798-45ff-b122-e81b4f613100",
    "outputId": "267aa2e7-b28e-4ea0-91bc-e17b266c9a50"
   },
   "outputs": [],
   "source": [
    "#then\n",
    "countries.cx[:0,:0].plot()"
   ]
  },
  {
   "cell_type": "markdown",
   "id": "1c44c596-e798-44d7-ba22-e24c00ae5044",
   "metadata": {
    "id": "1c44c596-e798-44d7-ba22-e24c00ae5044"
   },
   "source": [
    "Notice __cx__ would be cleaner if spatial element is a point."
   ]
  },
  {
   "cell_type": "markdown",
   "id": "be643505-1c8f-435c-b3ca-150aee9c4b3b",
   "metadata": {
    "id": "be643505-1c8f-435c-b3ca-150aee9c4b3b"
   },
   "source": [
    "## Clipping"
   ]
  },
  {
   "cell_type": "markdown",
   "id": "5b602bc2-9264-46ac-8b8a-b3a71514096e",
   "metadata": {
    "id": "5b602bc2-9264-46ac-8b8a-b3a71514096e"
   },
   "source": [
    "Let me keep one country:"
   ]
  },
  {
   "cell_type": "code",
   "execution_count": null,
   "id": "fa3fd88c-b4ee-42c2-8d79-5c4855534877",
   "metadata": {
    "colab": {
     "base_uri": "https://localhost:8080/",
     "height": 89
    },
    "id": "fa3fd88c-b4ee-42c2-8d79-5c4855534877",
    "outputId": "9e65dd23-c40f-4cc7-ae2f-cb6463467d09"
   },
   "outputs": [],
   "source": [
    "brazil=countries[countries.COUNTRY=='Brazil']\n",
    "#see\n",
    "brazil"
   ]
  },
  {
   "cell_type": "markdown",
   "id": "01e11a63-f60d-46b7-90b3-29f8e554227f",
   "metadata": {
    "id": "01e11a63-f60d-46b7-90b3-29f8e554227f"
   },
   "source": [
    "Pay attention to this GDF:"
   ]
  },
  {
   "cell_type": "code",
   "execution_count": null,
   "id": "39f32061-01f8-4459-ab57-b2e311838aba",
   "metadata": {
    "colab": {
     "base_uri": "https://localhost:8080/",
     "height": 424
    },
    "id": "39f32061-01f8-4459-ab57-b2e311838aba",
    "outputId": "b1f4eabf-92ee-4dac-817d-103af8c08835"
   },
   "outputs": [],
   "source": [
    "cities"
   ]
  },
  {
   "cell_type": "markdown",
   "id": "8f48d650-8113-4e99-ba44-1c6393d3f9dd",
   "metadata": {
    "id": "8f48d650-8113-4e99-ba44-1c6393d3f9dd"
   },
   "source": [
    "The GDF has a column 'COUNTRY' too.\n",
    "\n",
    "Now, check the rivers GDF:"
   ]
  },
  {
   "cell_type": "code",
   "execution_count": null,
   "id": "e04c8325-ac9e-416a-a15d-165a3945c028",
   "metadata": {
    "colab": {
     "base_uri": "https://localhost:8080/",
     "height": 424
    },
    "id": "e04c8325-ac9e-416a-a15d-165a3945c028",
    "outputId": "59e3b63c-7f48-4f5c-f269-102a2f7388b5"
   },
   "outputs": [],
   "source": [
    "rivers"
   ]
  },
  {
   "cell_type": "markdown",
   "id": "c6fcbcc4-6b4e-45ea-ba63-814549807e6d",
   "metadata": {
    "id": "c6fcbcc4-6b4e-45ea-ba63-814549807e6d"
   },
   "source": [
    "As you see, this GDF has no Country. But since it has geometry, you can keep the rivers, or their sections, that serve a country:"
   ]
  },
  {
   "cell_type": "code",
   "execution_count": null,
   "id": "5b6a5884-4c38-4cf9-b452-c472e409d82b",
   "metadata": {
    "id": "5b6a5884-4c38-4cf9-b452-c472e409d82b"
   },
   "outputs": [],
   "source": [
    "riversBrazil_clipped = gpd.clip(gdf=rivers,\n",
    "                               mask=brazil)"
   ]
  },
  {
   "cell_type": "markdown",
   "id": "59424b3b-f335-47dd-8496-c4a7a5b7ee72",
   "metadata": {
    "id": "59424b3b-f335-47dd-8496-c4a7a5b7ee72"
   },
   "source": [
    "Then, you can plot the clipped version:"
   ]
  },
  {
   "cell_type": "code",
   "execution_count": null,
   "id": "4cc43012-dcc3-45b3-b31e-35bcb26cab94",
   "metadata": {
    "colab": {
     "base_uri": "https://localhost:8080/",
     "height": 463
    },
    "id": "4cc43012-dcc3-45b3-b31e-35bcb26cab94",
    "outputId": "684ed3d4-de8e-4541-f1b2-8c2dc6e30281"
   },
   "outputs": [],
   "source": [
    "base = brazil.plot(facecolor=\"greenyellow\", edgecolor='black', linewidth=0.4,figsize=(5,5))\n",
    "riversBrazil_clipped.plot(edgecolor='blue', linewidth=0.5,\n",
    "                    ax=base)"
   ]
  },
  {
   "cell_type": "markdown",
   "id": "a565103c-95a1-4adc-be79-99cf98d5d57b",
   "metadata": {
    "id": "a565103c-95a1-4adc-be79-99cf98d5d57b"
   },
   "source": [
    "The geometry types are not modified:"
   ]
  },
  {
   "cell_type": "code",
   "execution_count": null,
   "id": "0180a0cd-311b-43e4-a68a-2fe82f46b4a0",
   "metadata": {
    "colab": {
     "base_uri": "https://localhost:8080/"
    },
    "id": "0180a0cd-311b-43e4-a68a-2fe82f46b4a0",
    "outputId": "8e33577f-7505-4442-fc2e-e55014d0f49c"
   },
   "outputs": [],
   "source": [
    "set(brazil.geom_type), set(riversBrazil_clipped.geom_type)"
   ]
  },
  {
   "cell_type": "markdown",
   "id": "f4045360",
   "metadata": {
    "id": "f4045360"
   },
   "source": [
    "[TOC](#0)\n",
    "\n",
    "_____________\n",
    "\n",
    "\n",
    "<a class=\"anchor\" id=\"3\"></a>\n",
    "\n",
    "# Combining GeoDF rows\n",
    "\n",
    "Let me bring the projected data from Brazil."
   ]
  },
  {
   "cell_type": "code",
   "execution_count": null,
   "id": "32827eb6-2450-4210-bec0-c45032769605",
   "metadata": {
    "colab": {
     "base_uri": "https://localhost:8080/",
     "height": 206
    },
    "id": "32827eb6-2450-4210-bec0-c45032769605",
    "outputId": "ffd0f77f-62a2-4a23-ed8c-ddc5a6c4e35f"
   },
   "outputs": [],
   "source": [
    "LinkBrazil=\"https://github.com/DACSS-Spatial/data_forSpatial/raw/refs/heads/main/BRAZIL/brazil_5880.gpkg\"\n",
    "## we have\n",
    "gpd.list_layers(LinkBrazil)"
   ]
  },
  {
   "cell_type": "markdown",
   "id": "099c9940-1d68-4524-8494-91236904510e",
   "metadata": {
    "id": "099c9940-1d68-4524-8494-91236904510e"
   },
   "source": [
    "Let me open municipalities:"
   ]
  },
  {
   "cell_type": "code",
   "execution_count": null,
   "id": "ff834b0d-e7e8-434f-a293-7c3ca2e3490a",
   "metadata": {
    "colab": {
     "base_uri": "https://localhost:8080/",
     "height": 481
    },
    "id": "ff834b0d-e7e8-434f-a293-7c3ca2e3490a",
    "outputId": "da2b4aa6-bbb0-49b3-b584-9809eb9184c9"
   },
   "outputs": [],
   "source": [
    "brazil_municipalities=gpd.read_file(LinkBrazil,layer='municipalities')\n",
    "brazil_municipalities.plot(facecolor='lightgrey', edgecolor='black',linewidth=0.2)"
   ]
  },
  {
   "cell_type": "code",
   "execution_count": null,
   "id": "a732d195-b51f-4bf7-8b9c-daaf8a49c0a3",
   "metadata": {
    "colab": {
     "base_uri": "https://localhost:8080/",
     "height": 206
    },
    "id": "a732d195-b51f-4bf7-8b9c-daaf8a49c0a3",
    "outputId": "d19e9d6b-8d87-45e6-b693-9cc997209290"
   },
   "outputs": [],
   "source": [
    "#see\n",
    "brazil_municipalities.head()"
   ]
  },
  {
   "cell_type": "code",
   "execution_count": null,
   "id": "05e89ed8-5095-46b6-a59f-c0248047fdcf",
   "metadata": {
    "colab": {
     "base_uri": "https://localhost:8080/"
    },
    "id": "05e89ed8-5095-46b6-a59f-c0248047fdcf",
    "outputId": "42856d36-7cc8-4925-e600-173d261cebea"
   },
   "outputs": [],
   "source": [
    "## we have\n",
    "len(brazil_municipalities.ADM2_PT)"
   ]
  },
  {
   "cell_type": "code",
   "execution_count": null,
   "id": "edc01a89-ae84-405d-82e8-0ba1da113a00",
   "metadata": {
    "colab": {
     "base_uri": "https://localhost:8080/"
    },
    "id": "edc01a89-ae84-405d-82e8-0ba1da113a00",
    "outputId": "d0ad3172-bb39-4726-eaff-4eacd31280a3"
   },
   "outputs": [],
   "source": [
    "# higher level count\n",
    "len(set(brazil_municipalities.ADM1_PT))"
   ]
  },
  {
   "cell_type": "markdown",
   "id": "1d0ca18b-4d56-4a5f-9575-755e278582c2",
   "metadata": {
    "id": "1d0ca18b-4d56-4a5f-9575-755e278582c2"
   },
   "source": [
    "Then, this is Minas Gerais:"
   ]
  },
  {
   "cell_type": "code",
   "execution_count": null,
   "id": "e2954e50-2d6f-4583-a2c0-3e5aaeb20b44",
   "metadata": {
    "colab": {
     "base_uri": "https://localhost:8080/",
     "height": 481
    },
    "id": "e2954e50-2d6f-4583-a2c0-3e5aaeb20b44",
    "outputId": "1c2b676d-f43b-4cfd-aa3a-01c8684ae6e7"
   },
   "outputs": [],
   "source": [
    "brazil_municipalities[brazil_municipalities.ADM1_PT=='Minas Gerais'].plot()"
   ]
  },
  {
   "cell_type": "markdown",
   "id": "e0ec0e20-de35-444b-9b20-daff26825402",
   "metadata": {
    "id": "e0ec0e20-de35-444b-9b20-daff26825402"
   },
   "source": [
    "Let's see the options to combine:"
   ]
  },
  {
   "cell_type": "markdown",
   "id": "97eadc14-d617-4345-ad89-1eb2b786d31f",
   "metadata": {
    "id": "97eadc14-d617-4345-ad89-1eb2b786d31f"
   },
   "source": [
    "## Unary UNION\n",
    "\n",
    "We can combine all these polygons into one:"
   ]
  },
  {
   "cell_type": "code",
   "execution_count": null,
   "id": "c00c048b-6faa-4ad6-8cf7-0f98769e17f2",
   "metadata": {
    "colab": {
     "base_uri": "https://localhost:8080/",
     "height": 321
    },
    "id": "c00c048b-6faa-4ad6-8cf7-0f98769e17f2",
    "outputId": "d6518f2b-be89-4366-ca31-a49bb275f203"
   },
   "outputs": [],
   "source": [
    "brazil_municipalities[brazil_municipalities.ADM1_PT=='Minas Gerais'].union_all()"
   ]
  },
  {
   "cell_type": "markdown",
   "id": "9d3fcffd-e552-4bea-9da3-b39745de4c36",
   "metadata": {
    "id": "9d3fcffd-e552-4bea-9da3-b39745de4c36"
   },
   "source": [
    "Let's save that result:"
   ]
  },
  {
   "cell_type": "code",
   "execution_count": null,
   "id": "ce5d4b07-7f14-4dc7-8031-5c12ee2c8a92",
   "metadata": {
    "id": "ce5d4b07-7f14-4dc7-8031-5c12ee2c8a92"
   },
   "outputs": [],
   "source": [
    "MinasGerais_union=brazil_municipalities[brazil_municipalities.ADM1_PT=='Minas Gerais'].union_all()"
   ]
  },
  {
   "cell_type": "code",
   "execution_count": null,
   "id": "d71ea52f-6738-4d8b-93fb-6e6bfdd7ed21",
   "metadata": {
    "colab": {
     "base_uri": "https://localhost:8080/"
    },
    "id": "d71ea52f-6738-4d8b-93fb-6e6bfdd7ed21",
    "outputId": "e2976b5a-efa1-492e-e3bc-81842fa7fdd8"
   },
   "outputs": [],
   "source": [
    "# what do we have?\n",
    "type(MinasGerais_union)"
   ]
  },
  {
   "cell_type": "markdown",
   "id": "97f5eeba-ee4f-4a46-b8ac-9645f7e59766",
   "metadata": {
    "id": "97f5eeba-ee4f-4a46-b8ac-9645f7e59766"
   },
   "source": [
    "You can turn that shapely object into a GeoDF like this:"
   ]
  },
  {
   "cell_type": "code",
   "execution_count": null,
   "id": "52d84f0d-bd43-4008-b3ac-c807e7dbafc5",
   "metadata": {
    "colab": {
     "base_uri": "https://localhost:8080/",
     "height": 81
    },
    "id": "52d84f0d-bd43-4008-b3ac-c807e7dbafc5",
    "outputId": "add29621-ed75-4274-a651-e092ea7e3185"
   },
   "outputs": [],
   "source": [
    "gpd.GeoDataFrame(index=[0],data={'ADM':'Minas Gerais'},\n",
    "                 crs=brazil_municipalities.crs,\n",
    "                 geometry=[MinasGerais_union])"
   ]
  },
  {
   "cell_type": "markdown",
   "id": "b1dee927-70dd-48e8-82b7-a04a2fa8fe3c",
   "metadata": {
    "id": "b1dee927-70dd-48e8-82b7-a04a2fa8fe3c"
   },
   "source": [
    "<a class=\"anchor\" id=\"21\"></a>\n",
    "\n",
    "## Dissolve\n",
    "\n",
    "### a. Dissolve as Union\n",
    "Using  **dissolve** is an alternative to _UNION_:"
   ]
  },
  {
   "cell_type": "code",
   "execution_count": null,
   "id": "c5768952-7e24-43ad-901e-9a7fadc3fc2c",
   "metadata": {
    "colab": {
     "base_uri": "https://localhost:8080/",
     "height": 481
    },
    "id": "c5768952-7e24-43ad-901e-9a7fadc3fc2c",
    "outputId": "78bde6c3-e080-44ff-e393-19a812684b6e"
   },
   "outputs": [],
   "source": [
    "brazil_municipalities[brazil_municipalities.ADM1_PT=='Minas Gerais'].dissolve().plot()"
   ]
  },
  {
   "cell_type": "markdown",
   "id": "351fbf6a-7e61-467e-ab1c-15c7544a4632",
   "metadata": {
    "id": "351fbf6a-7e61-467e-ab1c-15c7544a4632"
   },
   "source": [
    "Let me save the result, and see the type :"
   ]
  },
  {
   "cell_type": "code",
   "execution_count": null,
   "id": "672d051e-772e-4310-86f6-8fcfca6ed287",
   "metadata": {
    "colab": {
     "base_uri": "https://localhost:8080/",
     "height": 187
    },
    "id": "672d051e-772e-4310-86f6-8fcfca6ed287",
    "outputId": "2ac9f749-2cc1-43f7-e90d-f6bfd565fa69"
   },
   "outputs": [],
   "source": [
    "MinasGerais_dissolve=brazil_municipalities[brazil_municipalities.ADM1_PT=='Minas Gerais'].dissolve()\n",
    "\n",
    "# we got?\n",
    "type(MinasGerais_dissolve)"
   ]
  },
  {
   "cell_type": "markdown",
   "id": "2fc5778d-ef46-46dd-bd3e-eaba9f668e03",
   "metadata": {
    "id": "2fc5778d-ef46-46dd-bd3e-eaba9f668e03"
   },
   "source": [
    "You got a GEOdf this time:"
   ]
  },
  {
   "cell_type": "code",
   "execution_count": null,
   "id": "c3f3d552-060c-41f2-bbe5-debf1de6a496",
   "metadata": {
    "colab": {
     "base_uri": "https://localhost:8080/",
     "height": 89
    },
    "id": "c3f3d552-060c-41f2-bbe5-debf1de6a496",
    "outputId": "440196dd-dc8d-4143-f0dc-e443547f5785"
   },
   "outputs": [],
   "source": [
    "## see\n",
    "MinasGerais_dissolve"
   ]
  },
  {
   "cell_type": "code",
   "execution_count": null,
   "id": "95b21cb3-db50-48f1-a354-ce2b23e9b247",
   "metadata": {
    "colab": {
     "base_uri": "https://localhost:8080/",
     "height": 89
    },
    "id": "95b21cb3-db50-48f1-a354-ce2b23e9b247",
    "outputId": "0c529369-6e65-4304-b641-788a744787ea"
   },
   "outputs": [],
   "source": [
    "# keeping what is relevant\n",
    "MinasGerais_dissolve.drop(columns=['ADM2_PT','ADM2_PCODE','ET_ID'],inplace=True)\n",
    "\n",
    "# then\n",
    "MinasGerais_dissolve"
   ]
  },
  {
   "cell_type": "markdown",
   "id": "9321a5df-3274-4696-9278-6141e3218930",
   "metadata": {
    "id": "9321a5df-3274-4696-9278-6141e3218930"
   },
   "source": [
    "### b. Dissolve for groups\n",
    "\n",
    "Using _dissolve()_ with no arguments returns the union of the polygons, BUT also you get a GEOdf.\n",
    "However, if you have a column that represents a grouping (as we do), you can dissolve by that column:"
   ]
  },
  {
   "cell_type": "code",
   "execution_count": null,
   "id": "8b02371a-f65e-46e5-b0d2-e88d21825cd2",
   "metadata": {
    "colab": {
     "base_uri": "https://localhost:8080/",
     "height": 481
    },
    "id": "8b02371a-f65e-46e5-b0d2-e88d21825cd2",
    "outputId": "506a772d-0f22-4f87-9cf8-72298537b8ad"
   },
   "outputs": [],
   "source": [
    "# dissolving\n",
    "brazil_municipalities.dissolve(by='ADM1_PT').plot(facecolor='yellow', edgecolor='black',linewidth=0.2)"
   ]
  },
  {
   "cell_type": "markdown",
   "id": "ade71f08-90cb-4a1c-977a-4f5ac846f2d9",
   "metadata": {
    "id": "ade71f08-90cb-4a1c-977a-4f5ac846f2d9"
   },
   "source": [
    "Again, let me save this result:"
   ]
  },
  {
   "cell_type": "code",
   "execution_count": null,
   "id": "1a36080b-9326-4584-9190-fa1718e03f0d",
   "metadata": {
    "id": "1a36080b-9326-4584-9190-fa1718e03f0d"
   },
   "outputs": [],
   "source": [
    "Brazil_adm1_diss=brazil_municipalities.dissolve(by='ADM1_PT')"
   ]
  },
  {
   "cell_type": "markdown",
   "id": "4d1de91b-7ad7-44f5-a9cb-410dbf53656c",
   "metadata": {
    "id": "4d1de91b-7ad7-44f5-a9cb-410dbf53656c"
   },
   "source": [
    "We know we have a GeoDF; let's see contents:"
   ]
  },
  {
   "cell_type": "code",
   "execution_count": null,
   "id": "ef8b7fbb-7b5b-4624-ae40-e7aed7d4bdf6",
   "metadata": {
    "colab": {
     "base_uri": "https://localhost:8080/",
     "height": 927
    },
    "id": "ef8b7fbb-7b5b-4624-ae40-e7aed7d4bdf6",
    "outputId": "d5ec1d9d-642c-4b0d-b352-5d48203ef4c8"
   },
   "outputs": [],
   "source": [
    "Brazil_adm1_diss"
   ]
  },
  {
   "cell_type": "markdown",
   "id": "48b1ddda-4b45-489c-97b8-3260a2f75459",
   "metadata": {
    "id": "48b1ddda-4b45-489c-97b8-3260a2f75459"
   },
   "source": [
    "Again, we can drop columns that do not bring important information:"
   ]
  },
  {
   "cell_type": "code",
   "execution_count": null,
   "id": "bebf8290-4334-4b1f-8818-0f0db44799be",
   "metadata": {
    "colab": {
     "base_uri": "https://localhost:8080/"
    },
    "id": "bebf8290-4334-4b1f-8818-0f0db44799be",
    "outputId": "decce817-b7a3-444d-ead9-6602ea60cdad"
   },
   "outputs": [],
   "source": [
    "Brazil_adm1_diss.drop(columns=['ADM2_PT','ADM2_PCODE','ET_ID'],inplace=True)\n",
    "Brazil_adm1_diss.reset_index(inplace=True)\n",
    "Brazil_adm1_diss.info()"
   ]
  },
  {
   "cell_type": "markdown",
   "id": "8ce4da9c-0e99-4e00-aabb-5a291d7a935d",
   "metadata": {
    "id": "8ce4da9c-0e99-4e00-aabb-5a291d7a935d"
   },
   "source": [
    "### c. Dissolve and aggregate\n",
    "\n",
    "In pandas, you can aggregate data using some statistics. Let me open the map with indicators we created in a previous session:"
   ]
  },
  {
   "cell_type": "code",
   "execution_count": null,
   "id": "f842ce68-8353-4af7-9ed9-5e1a8e856f39",
   "metadata": {
    "colab": {
     "base_uri": "https://localhost:8080/",
     "height": 206
    },
    "id": "f842ce68-8353-4af7-9ed9-5e1a8e856f39",
    "outputId": "907fbc15-5088-4658-e526-f6f828fea29a"
   },
   "outputs": [],
   "source": [
    "linkInd=\"https://github.com/DACSS-Spatial/data_forSpatial/raw/refs/heads/main/WORLD/worldindicators.json\"\n",
    "indicators=gpd.read_file(linkInd)\n",
    "indicators.head()"
   ]
  },
  {
   "cell_type": "markdown",
   "id": "Rto2Jyoz3vcm",
   "metadata": {
    "id": "Rto2Jyoz3vcm"
   },
   "source": [
    "You can compute the mean of the countries by region, using a DF approach like this:"
   ]
  },
  {
   "cell_type": "code",
   "execution_count": null,
   "id": "O3VGN7S81s3B",
   "metadata": {
    "colab": {
     "base_uri": "https://localhost:8080/",
     "height": 394
    },
    "id": "O3VGN7S81s3B",
    "outputId": "d8d30f70-5d4d-4425-da7a-a08b05906e72"
   },
   "outputs": [],
   "source": [
    "indicators.groupby('region').agg({'fragility':'mean'})"
   ]
  },
  {
   "cell_type": "markdown",
   "id": "Vk8B5uRC0mVX",
   "metadata": {
    "id": "Vk8B5uRC0mVX"
   },
   "source": [
    "\n",
    "The RESULT is just data, you see no spatial information. It got lost.\n",
    "\n",
    "The appropriate operation to conserve spatial information is **Dissolve**:"
   ]
  },
  {
   "cell_type": "code",
   "execution_count": null,
   "id": "794f3048-257d-4193-89d0-deda71523b9c",
   "metadata": {
    "colab": {
     "base_uri": "https://localhost:8080/",
     "height": 363
    },
    "id": "794f3048-257d-4193-89d0-deda71523b9c",
    "outputId": "80383224-82f9-4082-d7b0-dfb8ce032ab0"
   },
   "outputs": [],
   "source": [
    "indicatorsByRegion=indicators.dissolve(\n",
    "     by=\"region\",\n",
    "     aggfunc={\n",
    "         \"fragility\": [\"mean\"]},as_index=False, grid_size=0.1\n",
    " )\n",
    "\n",
    "## see the spatial info\n",
    "indicatorsByRegion"
   ]
  },
  {
   "cell_type": "markdown",
   "id": "ce73aadb-aaad-458f-abf1-dc24be193949",
   "metadata": {
    "id": "ce73aadb-aaad-458f-abf1-dc24be193949"
   },
   "source": [
    "Without renaming, you can request a choropleth:"
   ]
  },
  {
   "cell_type": "code",
   "execution_count": null,
   "id": "-c3sNkIr4ehl",
   "metadata": {
    "id": "-c3sNkIr4ehl"
   },
   "outputs": [],
   "source": [
    "# !pip install mapclassify"
   ]
  },
  {
   "cell_type": "code",
   "execution_count": null,
   "id": "509d432c-35bb-48c2-9365-02b6aa6227ee",
   "metadata": {
    "colab": {
     "base_uri": "https://localhost:8080/",
     "height": 540
    },
    "id": "509d432c-35bb-48c2-9365-02b6aa6227ee",
    "outputId": "6ee2ef0e-67b7-43c0-a111-1e9bc11a891e"
   },
   "outputs": [],
   "source": [
    "indicatorsByRegion.plot(column =('fragility', 'mean'),scheme='quantiles', cmap='OrRd_r',\n",
    "                        legend=True,\n",
    "                        legend_kwds={\"title\": \"Fragility\",'loc': 'lower left'},\n",
    "                        edgecolor='black',linewidth=0.2,\n",
    "                        figsize=(15, 10))"
   ]
  },
  {
   "cell_type": "markdown",
   "id": "29bdb1b3",
   "metadata": {
    "id": "29bdb1b3"
   },
   "source": [
    "[TOC](#0)\n",
    "_____________\n",
    "\n",
    "\n",
    "<a class=\"anchor\" id=\"4\"></a>\n",
    "\n",
    "# The convex hull\n",
    "\n",
    "Some time you may have the need to create a polygon that serves as an envelope to a set of points.\n",
    "\n",
    "For this example, let me compute the centroid coordinates:"
   ]
  },
  {
   "cell_type": "code",
   "execution_count": null,
   "id": "e05a431e-bfd6-4622-851d-66535cc0dcbe",
   "metadata": {
    "colab": {
     "base_uri": "https://localhost:8080/",
     "height": 115
    },
    "id": "e05a431e-bfd6-4622-851d-66535cc0dcbe",
    "outputId": "bc0b1082-4d64-4934-d037-63df0e538c51"
   },
   "outputs": [],
   "source": [
    "brazil_5880=gpd.read_file(LinkBrazil,layer='country')\n",
    "brazil_5880.centroid"
   ]
  },
  {
   "cell_type": "code",
   "execution_count": null,
   "id": "1ee85d85-1033-40a3-95ae-624bdffea30e",
   "metadata": {
    "colab": {
     "base_uri": "https://localhost:8080/"
    },
    "id": "1ee85d85-1033-40a3-95ae-624bdffea30e",
    "outputId": "cdbccb7c-5bbb-4ad7-b4f7-ba0e6628f722"
   },
   "outputs": [],
   "source": [
    "# then\n",
    "brazil_5880.centroid.x.values[0],brazil_5880.centroid.y.values[0]"
   ]
  },
  {
   "cell_type": "markdown",
   "id": "0b565daa-4e4e-4901-a1c0-51cc0545a48e",
   "metadata": {
    "id": "0b565daa-4e4e-4901-a1c0-51cc0545a48e"
   },
   "source": [
    "Let me open the airports:"
   ]
  },
  {
   "cell_type": "code",
   "execution_count": null,
   "id": "eb203997-8c36-4a17-a5a7-f80ccd3ad0e7",
   "metadata": {
    "colab": {
     "base_uri": "https://localhost:8080/",
     "height": 206
    },
    "id": "eb203997-8c36-4a17-a5a7-f80ccd3ad0e7",
    "outputId": "cf8b6c6d-18c6-4920-90e6-c4d4088cf14f"
   },
   "outputs": [],
   "source": [
    "airports_5880=gpd.read_file(LinkBrazil,layer='airports')\n",
    "airports_5880.head()"
   ]
  },
  {
   "cell_type": "markdown",
   "id": "36dd3b3a-6ac1-4ef1-a5ab-43de7baff144",
   "metadata": {
    "id": "36dd3b3a-6ac1-4ef1-a5ab-43de7baff144"
   },
   "source": [
    "Now, let me plot some airports, using the centroid:"
   ]
  },
  {
   "cell_type": "code",
   "execution_count": null,
   "id": "10d1d989",
   "metadata": {
    "id": "10d1d989"
   },
   "outputs": [],
   "source": [
    "# coordinates\n",
    "centroidX,centroidY=brazil_5880.centroid.x.values[0],brazil_5880.centroid.y.values[0]\n",
    "\n",
    "# subsets of medium airports\n",
    "Brazil_AirTopLeft=airports_5880[airports_5880.kind=='medium_airport'].cx[:centroidX,centroidY:]\n",
    "Brazil_AirTopRight=airports_5880[airports_5880.kind=='medium_airport'].cx[centroidX:,centroidY:]\n",
    "Brazil_AirBottomLeft=airports_5880[airports_5880.kind=='medium_airport'].cx[:centroidX,:centroidY]\n",
    "Brazil_AirBottomRight=airports_5880[airports_5880.kind=='medium_airport'].cx[centroidX:,:centroidY]"
   ]
  },
  {
   "cell_type": "markdown",
   "id": "791300a1-b45f-4f35-b7bf-8b4011a2af71",
   "metadata": {
    "id": "791300a1-b45f-4f35-b7bf-8b4011a2af71"
   },
   "source": [
    "Let me plot the subsets:"
   ]
  },
  {
   "cell_type": "code",
   "execution_count": null,
   "id": "cbc423fd",
   "metadata": {
    "colab": {
     "base_uri": "https://localhost:8080/",
     "height": 481
    },
    "id": "cbc423fd",
    "outputId": "fc214cf5-829b-40cb-fba3-a997cc3f8a59"
   },
   "outputs": [],
   "source": [
    "base=Brazil_AirTopLeft.plot(facecolor='grey', alpha=0.4)\n",
    "Brazil_AirTopRight.plot(ax=base,facecolor='orange', alpha=0.4)\n",
    "Brazil_AirBottomLeft.plot(ax=base,facecolor='green', alpha=0.4)\n",
    "Brazil_AirBottomRight.plot(ax=base,facecolor='red', alpha=0.4)"
   ]
  },
  {
   "cell_type": "markdown",
   "id": "cbfa5551-87ae-4b98-92fb-fbb08afab7fd",
   "metadata": {
    "id": "cbfa5551-87ae-4b98-92fb-fbb08afab7fd"
   },
   "source": [
    "Notice we have simple points in each subset:"
   ]
  },
  {
   "cell_type": "code",
   "execution_count": null,
   "id": "9edfce2c-6fb1-4e7d-83e2-289572a004d3",
   "metadata": {
    "colab": {
     "base_uri": "https://localhost:8080/",
     "height": 457
    },
    "id": "9edfce2c-6fb1-4e7d-83e2-289572a004d3",
    "outputId": "855b1d61-de34-4c49-8a20-8cf94f71b96e"
   },
   "outputs": [],
   "source": [
    "Brazil_AirBottomLeft"
   ]
  },
  {
   "cell_type": "markdown",
   "id": "551f294a-15f2-4d59-8d39-a6c3f4bc78a5",
   "metadata": {
    "id": "551f294a-15f2-4d59-8d39-a6c3f4bc78a5"
   },
   "source": [
    "In this situation, you can NOT make a _convex hull_:"
   ]
  },
  {
   "cell_type": "code",
   "execution_count": null,
   "id": "83742721-0143-4ea3-90bf-d881e0d49625",
   "metadata": {
    "colab": {
     "base_uri": "https://localhost:8080/",
     "height": 481
    },
    "id": "83742721-0143-4ea3-90bf-d881e0d49625",
    "outputId": "37cca741-e86c-40f3-dd81-cb3fb9dbe834"
   },
   "outputs": [],
   "source": [
    "Brazil_AirBottomLeft.convex_hull.plot()"
   ]
  },
  {
   "cell_type": "markdown",
   "id": "95a53c9f-cdf5-47ce-a4d3-8f90ef2311db",
   "metadata": {
    "id": "95a53c9f-cdf5-47ce-a4d3-8f90ef2311db"
   },
   "source": [
    "You first need to **dissolve**, and then you create a hull, an envelope of  convex angles:"
   ]
  },
  {
   "cell_type": "code",
   "execution_count": null,
   "id": "026b2289",
   "metadata": {
    "colab": {
     "base_uri": "https://localhost:8080/",
     "height": 481
    },
    "id": "026b2289",
    "outputId": "3de3ab9a-8fef-4f46-dd53-f11d2c63458c"
   },
   "outputs": [],
   "source": [
    "Brazil_AirBottomLeft.dissolve().convex_hull.plot()"
   ]
  },
  {
   "cell_type": "markdown",
   "id": "a4615ea0-73d3-407e-8331-b3ce8fff87af",
   "metadata": {
    "id": "a4615ea0-73d3-407e-8331-b3ce8fff87af"
   },
   "source": [
    "As we saw, the convex hull is a polygon:"
   ]
  },
  {
   "cell_type": "code",
   "execution_count": null,
   "id": "46326bc8-79c7-4804-8289-4abef9fad8c4",
   "metadata": {
    "colab": {
     "base_uri": "https://localhost:8080/",
     "height": 115
    },
    "id": "46326bc8-79c7-4804-8289-4abef9fad8c4",
    "outputId": "2fc4cb2f-c7a3-4a46-ca56-3db89c070c71"
   },
   "outputs": [],
   "source": [
    "Brazil_AirBottomLeft.dissolve().convex_hull"
   ]
  },
  {
   "cell_type": "markdown",
   "id": "83219eda-90dc-477d-b566-c23c27e470e0",
   "metadata": {
    "id": "83219eda-90dc-477d-b566-c23c27e470e0"
   },
   "source": [
    "What if we have the polygons that had not been previously combined?"
   ]
  },
  {
   "cell_type": "code",
   "execution_count": null,
   "id": "1a327e0f-4f9d-49d2-bfaa-521ff54a915c",
   "metadata": {
    "colab": {
     "base_uri": "https://localhost:8080/",
     "height": 481
    },
    "id": "1a327e0f-4f9d-49d2-bfaa-521ff54a915c",
    "outputId": "afe6e4d9-ae1a-4f5d-b89a-e844ef90def5"
   },
   "outputs": [],
   "source": [
    "brazil_municipalities.cx[:centroidX,:centroidY].convex_hull.plot(edgecolor='red')"
   ]
  },
  {
   "cell_type": "code",
   "execution_count": null,
   "id": "ZqVY9GIXrWhp",
   "metadata": {
    "id": "ZqVY9GIXrWhp"
   },
   "outputs": [],
   "source": [
    "# notice\n",
    "brazil_municipalities.cx[:centroidX,:centroidY].dissolve().convex_hull.plot(edgecolor='red')"
   ]
  },
  {
   "cell_type": "markdown",
   "id": "d908fc2f",
   "metadata": {
    "id": "d908fc2f"
   },
   "source": [
    "That is, you get a convex hull for each geometry.\n",
    "\n",
    "We can also use _union_ before creating a convex hull:"
   ]
  },
  {
   "cell_type": "code",
   "execution_count": null,
   "id": "2649d471",
   "metadata": {
    "colab": {
     "base_uri": "https://localhost:8080/",
     "height": 321
    },
    "id": "2649d471",
    "outputId": "57a518e6-c0c3-4238-99aa-67cd6b28c7d7"
   },
   "outputs": [],
   "source": [
    "# just the union\n",
    "large_airport=airports_5880[airports_5880.kind=='large_airport']\n",
    "large_airport.union_all()"
   ]
  },
  {
   "cell_type": "code",
   "execution_count": null,
   "id": "ce05689b-acde-4373-8b60-51ca6bc19c5b",
   "metadata": {
    "colab": {
     "base_uri": "https://localhost:8080/",
     "height": 321
    },
    "id": "ce05689b-acde-4373-8b60-51ca6bc19c5b",
    "outputId": "aa1f67e2-f663-4441-9dca-cf0d80df294a"
   },
   "outputs": [],
   "source": [
    "# hull of the union\n",
    "large_airport.union_all().convex_hull"
   ]
  },
  {
   "cell_type": "markdown",
   "id": "46a0e7b3",
   "metadata": {
    "id": "46a0e7b3"
   },
   "source": [
    "Let's turn the GS into a GDF:"
   ]
  },
  {
   "cell_type": "code",
   "execution_count": null,
   "id": "14037793-1df7-4dfa-8438-7dc7734580fe",
   "metadata": {
    "colab": {
     "base_uri": "https://localhost:8080/",
     "height": 89
    },
    "id": "14037793-1df7-4dfa-8438-7dc7734580fe",
    "outputId": "735cf3a6-19d2-458d-9c8e-80439331d36a"
   },
   "outputs": [],
   "source": [
    "LargeAirport_hull= gpd.GeoDataFrame(index=[0],\n",
    "                                    crs=large_airport.crs,\n",
    "                                    geometry=[large_airport.union_all().convex_hull])\n",
    "LargeAirport_hull['name']='large airports hull' # optional\n",
    "\n",
    "# then\n",
    "\n",
    "LargeAirport_hull"
   ]
  },
  {
   "cell_type": "markdown",
   "id": "c67c1b31",
   "metadata": {
    "id": "c67c1b31"
   },
   "source": [
    "Let's use the GDF in plotting:"
   ]
  },
  {
   "cell_type": "code",
   "execution_count": null,
   "id": "e73b691b",
   "metadata": {
    "colab": {
     "base_uri": "https://localhost:8080/",
     "height": 481
    },
    "id": "e73b691b",
    "outputId": "d123e0e6-7073-4d2a-8579-ec6a116b7ab1"
   },
   "outputs": [],
   "source": [
    "base=brazil_5880.plot(facecolor='yellow')\n",
    "large_airport.plot(ax=base)\n",
    "LargeAirport_hull.plot(ax=base,facecolor='green',\n",
    "                       edgecolor='white',alpha=0.4,\n",
    "                       hatch='X')"
   ]
  },
  {
   "cell_type": "markdown",
   "id": "6852f4a7-24bb-4540-9324-bf9f67c54637",
   "metadata": {
    "id": "6852f4a7-24bb-4540-9324-bf9f67c54637"
   },
   "source": [
    "[TOC](#0)\n",
    "_____________\n",
    "\n",
    "<a class=\"anchor\" id=\"5\"></a>\n",
    "# Spatial Overlay\n",
    "\n",
    "We might need to create or find some geometries from the geometries we already have. Using a set theory approach, we will se the use of _intersection_, _union_, _difference_, and _symmetric difference_.\n",
    "\n",
    "Let me create this GeoDFs:"
   ]
  },
  {
   "cell_type": "code",
   "execution_count": null,
   "id": "b3a47ad4-44ab-4bfb-be52-f86e40d402bf",
   "metadata": {
    "id": "b3a47ad4-44ab-4bfb-be52-f86e40d402bf"
   },
   "outputs": [],
   "source": [
    "# the north\n",
    "MunisN_brazil=brazil_municipalities.cx[:,centroidY:]\n",
    "# the south\n",
    "MunisS_brazil=brazil_municipalities.cx[:,:centroidY]\n",
    "# the west\n",
    "MunisW_brazil=brazil_municipalities.cx[:centroidX,:]\n",
    "# the east\n",
    "MunisE_brazil=brazil_municipalities.cx[centroidX:,:]"
   ]
  },
  {
   "cell_type": "markdown",
   "id": "ffe06cd8-163f-4a45-859d-20d24b56ae74",
   "metadata": {
    "id": "ffe06cd8-163f-4a45-859d-20d24b56ae74"
   },
   "source": [
    "Let me plot:"
   ]
  },
  {
   "cell_type": "code",
   "execution_count": null,
   "id": "7a5a27d5-7117-43a5-bf61-6542de99e280",
   "metadata": {
    "colab": {
     "base_uri": "https://localhost:8080/",
     "height": 481
    },
    "id": "7a5a27d5-7117-43a5-bf61-6542de99e280",
    "outputId": "efbce584-091a-4ec2-9724-089756d5decf"
   },
   "outputs": [],
   "source": [
    "base=MunisN_brazil.plot(facecolor='yellow', edgecolor='black',linewidth=0.2, alpha=0.6)\n",
    "MunisS_brazil.plot(facecolor='grey', edgecolor='black',linewidth=0.2,ax=base, alpha=0.4)"
   ]
  },
  {
   "cell_type": "code",
   "execution_count": null,
   "id": "1e119335-f1d0-42fb-8c7a-bcd5f0231578",
   "metadata": {
    "colab": {
     "base_uri": "https://localhost:8080/",
     "height": 481
    },
    "id": "1e119335-f1d0-42fb-8c7a-bcd5f0231578",
    "outputId": "84460d11-0d8a-4259-b753-b07999c6feef"
   },
   "outputs": [],
   "source": [
    "base=MunisE_brazil.plot(facecolor='yellow', edgecolor='black',linewidth=0.2, alpha=0.6)\n",
    "MunisW_brazil.plot(facecolor='grey', edgecolor='black',linewidth=0.2,ax=base, alpha=0.4)"
   ]
  },
  {
   "cell_type": "markdown",
   "id": "b751684b-270f-4b3a-9b7d-d51ae7f2b641",
   "metadata": {
    "id": "b751684b-270f-4b3a-9b7d-d51ae7f2b641"
   },
   "source": [
    "## Intersection\n",
    "\n",
    "We keep what is common between GeoDFs:"
   ]
  },
  {
   "cell_type": "code",
   "execution_count": null,
   "id": "b6517bb9-b20a-46f9-ba77-d8a0f120f97c",
   "metadata": {
    "colab": {
     "base_uri": "https://localhost:8080/",
     "height": 163
    },
    "id": "b6517bb9-b20a-46f9-ba77-d8a0f120f97c",
    "outputId": "7a93953c-3c9c-4d00-8142-1f05532068e0"
   },
   "outputs": [],
   "source": [
    "munisNS_brazil=MunisN_brazil.overlay(MunisS_brazil, how=\"intersection\",keep_geom_type=True)\n",
    "munisNS_brazil.plot()"
   ]
  },
  {
   "cell_type": "code",
   "execution_count": null,
   "id": "a65bd362-ddde-4d7d-98c7-151d7a1d1b0b",
   "metadata": {
    "colab": {
     "base_uri": "https://localhost:8080/",
     "height": 481
    },
    "id": "a65bd362-ddde-4d7d-98c7-151d7a1d1b0b",
    "outputId": "6dc90a38-dab6-41f7-84c3-00d2701b9d18"
   },
   "outputs": [],
   "source": [
    "# keeping the overlay\n",
    "munisWE_brazil=MunisW_brazil.overlay(MunisE_brazil, how=\"intersection\",keep_geom_type=True)\n",
    "munisWE_brazil.plot(edgecolor='white',linewidth=0.1)"
   ]
  },
  {
   "cell_type": "markdown",
   "id": "ec14306e-6c6e-4759-88e0-66a02b4294ec",
   "metadata": {
    "id": "ec14306e-6c6e-4759-88e0-66a02b4294ec"
   },
   "source": [
    "## Union\n",
    "\n",
    "Let me unite any polygons that touche each other. First, take a look at each one:"
   ]
  },
  {
   "cell_type": "code",
   "execution_count": null,
   "id": "4bbcc6ab-975e-4e47-8a07-9ad723c68368",
   "metadata": {
    "colab": {
     "base_uri": "https://localhost:8080/"
    },
    "id": "4bbcc6ab-975e-4e47-8a07-9ad723c68368",
    "outputId": "327ebe28-14b9-4bbb-bcaa-c5bcb1861faa"
   },
   "outputs": [],
   "source": [
    "munisNS_brazil.info()"
   ]
  },
  {
   "cell_type": "code",
   "execution_count": null,
   "id": "c69c559c-987a-4335-b18c-bc9e0f9fea2b",
   "metadata": {
    "colab": {
     "base_uri": "https://localhost:8080/"
    },
    "id": "c69c559c-987a-4335-b18c-bc9e0f9fea2b",
    "outputId": "ac5add12-0b6c-4c83-c4c8-fa7b1a3011cf"
   },
   "outputs": [],
   "source": [
    "munisWE_brazil.info()"
   ]
  },
  {
   "cell_type": "markdown",
   "id": "a0ecfadb-7711-41fc-b225-a538324f09bb",
   "metadata": {
    "id": "a0ecfadb-7711-41fc-b225-a538324f09bb"
   },
   "source": [
    "Let me subset and show you:"
   ]
  },
  {
   "cell_type": "code",
   "execution_count": null,
   "id": "f8348693-7e68-49ca-b752-8a80178097d6",
   "metadata": {
    "id": "f8348693-7e68-49ca-b752-8a80178097d6"
   },
   "outputs": [],
   "source": [
    "keep=['ADM0_EN_1','ADM1_PT_1','ADM2_PT_1','geometry']\n",
    "munisNS_brazil=munisNS_brazil.loc[:,keep]\n",
    "munisWE_brazil=munisWE_brazil.loc[:,keep]"
   ]
  },
  {
   "cell_type": "code",
   "execution_count": null,
   "id": "5dfab57c-04e5-468d-b60a-0cc82ddeb1de",
   "metadata": {
    "colab": {
     "base_uri": "https://localhost:8080/",
     "height": 424
    },
    "id": "5dfab57c-04e5-468d-b60a-0cc82ddeb1de",
    "outputId": "bd796237-81bd-4a2e-8a18-c43a874113f5"
   },
   "outputs": [],
   "source": [
    "# now\n",
    "munisNS_brazil.overlay(munisWE_brazil,how=\"union\",keep_geom_type=True)"
   ]
  },
  {
   "cell_type": "markdown",
   "id": "4630ac7f-d8f5-4f98-b88b-4b3e201cdba3",
   "metadata": {
    "id": "4630ac7f-d8f5-4f98-b88b-4b3e201cdba3"
   },
   "source": [
    "As you see, geometries are fine, but not attributes. It is strictly NOT appending the GeoDFs:"
   ]
  },
  {
   "cell_type": "code",
   "execution_count": null,
   "id": "dd26202c-f697-4635-9596-5eed71dc777d",
   "metadata": {
    "colab": {
     "base_uri": "https://localhost:8080/",
     "height": 424
    },
    "id": "dd26202c-f697-4635-9596-5eed71dc777d",
    "outputId": "da553bed-30d2-4bac-86b5-e226bf954c03"
   },
   "outputs": [],
   "source": [
    "# appending\n",
    "import pandas as pd\n",
    "\n",
    "pd.concat([munisNS_brazil,munisWE_brazil],ignore_index=True)"
   ]
  },
  {
   "cell_type": "markdown",
   "id": "9d264f8c-2d50-4526-8011-e1de5b227694",
   "metadata": {
    "id": "9d264f8c-2d50-4526-8011-e1de5b227694"
   },
   "source": [
    "These are different operations. UNION will combine any geometries that have overlaping portions in common."
   ]
  },
  {
   "cell_type": "code",
   "execution_count": null,
   "id": "f083eed4-13d4-4c84-9ca4-692cc073d276",
   "metadata": {
    "colab": {
     "base_uri": "https://localhost:8080/",
     "height": 424
    },
    "id": "f083eed4-13d4-4c84-9ca4-692cc073d276",
    "outputId": "cc048fc1-6137-4a4d-eda6-48401c51968a"
   },
   "outputs": [],
   "source": [
    "munisNS_brazil.overlay(munisWE_brazil, how=\"union\",keep_geom_type=True)"
   ]
  },
  {
   "cell_type": "markdown",
   "id": "2741107f-24c9-4dd0-bdd9-910a3666b61d",
   "metadata": {
    "id": "2741107f-24c9-4dd0-bdd9-910a3666b61d"
   },
   "source": [
    "Let me create an object to save the previous result:"
   ]
  },
  {
   "cell_type": "code",
   "execution_count": null,
   "id": "cc7b3bca-13b5-4bae-a431-3a23811f1a73",
   "metadata": {
    "colab": {
     "base_uri": "https://localhost:8080/",
     "height": 89
    },
    "id": "cc7b3bca-13b5-4bae-a431-3a23811f1a73",
    "outputId": "a5dc285e-ea40-4db4-8f69-9317ffb00fa5"
   },
   "outputs": [],
   "source": [
    "muniMidBrazil=munisNS_brazil.overlay(munisWE_brazil, how=\"union\",keep_geom_type=True).dissolve()\n",
    "muniMidBrazil"
   ]
  },
  {
   "cell_type": "code",
   "execution_count": null,
   "id": "df9d6897-4e84-4b6b-8a76-398b19985d49",
   "metadata": {
    "colab": {
     "base_uri": "https://localhost:8080/",
     "height": 89
    },
    "id": "df9d6897-4e84-4b6b-8a76-398b19985d49",
    "outputId": "e07d59fb-fe67-42d9-dd27-0d16d2b8ee21"
   },
   "outputs": [],
   "source": [
    "# some cleaning\n",
    "\n",
    "muniMidBrazil['zone']='middles'\n",
    "muniMidBrazil=muniMidBrazil.loc[:,['ADM0_EN_1_1','zone','geometry']]\n",
    "muniMidBrazil"
   ]
  },
  {
   "cell_type": "markdown",
   "id": "bd80963c-3d9e-4708-af62-6d19149a6a4b",
   "metadata": {
    "id": "bd80963c-3d9e-4708-af62-6d19149a6a4b"
   },
   "source": [
    "## Difference\n",
    "\n",
    "Here, you keep what belongs to the GeoDF to left that is not in the GeoDF to the right:"
   ]
  },
  {
   "cell_type": "code",
   "execution_count": null,
   "id": "667a9eeb-dadb-4fcf-9c67-23ce0f6da08a",
   "metadata": {
    "colab": {
     "base_uri": "https://localhost:8080/",
     "height": 481
    },
    "id": "667a9eeb-dadb-4fcf-9c67-23ce0f6da08a",
    "outputId": "ca55f1ba-5263-4864-82ea-8c8643eccf05"
   },
   "outputs": [],
   "source": [
    "# with the municipalities\n",
    "brazil_municipalities.overlay(muniMidBrazil, how='difference').plot()"
   ]
  },
  {
   "cell_type": "markdown",
   "id": "8170b033-0707-43e8-b4ee-dca39e46f17a",
   "metadata": {
    "id": "8170b033-0707-43e8-b4ee-dca39e46f17a"
   },
   "source": [
    "## Symmetric Difference"
   ]
  },
  {
   "cell_type": "markdown",
   "id": "5f2728ec-f142-47a9-8de2-a65fef18680f",
   "metadata": {
    "id": "5f2728ec-f142-47a9-8de2-a65fef18680f"
   },
   "source": [
    "This is the opposite to *intersection*, you keep what is not in the intersection:"
   ]
  },
  {
   "cell_type": "code",
   "execution_count": null,
   "id": "1a3e81f0-3f80-4a88-98c7-5f6611c50cfe",
   "metadata": {
    "colab": {
     "base_uri": "https://localhost:8080/",
     "height": 481
    },
    "id": "1a3e81f0-3f80-4a88-98c7-5f6611c50cfe",
    "outputId": "6f74eff7-5d91-4ce8-9771-4a4d8de818fd"
   },
   "outputs": [],
   "source": [
    "MunisN_brazil.overlay(MunisS_brazil, how=\"symmetric_difference\",keep_geom_type=True).plot()"
   ]
  },
  {
   "cell_type": "code",
   "execution_count": null,
   "id": "a634707c-71d2-4e04-905d-e6cf23fa5cdf",
   "metadata": {
    "colab": {
     "base_uri": "https://localhost:8080/",
     "height": 481
    },
    "id": "a634707c-71d2-4e04-905d-e6cf23fa5cdf",
    "outputId": "7b1ebe05-c169-4073-e9b0-111ec5b72509"
   },
   "outputs": [],
   "source": [
    "MunisW_brazil.overlay(muniMidBrazil, how=\"symmetric_difference\",keep_geom_type=False).plot()"
   ]
  },
  {
   "cell_type": "markdown",
   "id": "7caa0e58",
   "metadata": {
    "id": "7caa0e58"
   },
   "source": [
    "[TOC](#0)\n",
    "_____________\n",
    "\n",
    "<a class=\"anchor\" id=\"6\"></a>\n",
    "\n",
    "# Validity of Geometry\n",
    "\n",
    "Geometries are created in a way that some issues may appear, especially in (multi) polygons.\n",
    "Let's check if our recent maps on states and municipalities are valid:"
   ]
  },
  {
   "cell_type": "code",
   "execution_count": null,
   "id": "3a27c1ca",
   "metadata": {
    "colab": {
     "base_uri": "https://localhost:8080/",
     "height": 424
    },
    "id": "3a27c1ca",
    "outputId": "3ac8b3f8-eafb-438b-cf02-fb91d6748998"
   },
   "outputs": [],
   "source": [
    "# non valid\n",
    "MunisS_brazil[~MunisS_brazil.is_valid]"
   ]
  },
  {
   "cell_type": "code",
   "execution_count": null,
   "id": "ee29926a",
   "metadata": {
    "colab": {
     "base_uri": "https://localhost:8080/",
     "height": 481
    },
    "id": "ee29926a",
    "outputId": "02d6689b-8a2b-4788-9447-b9db3bac7413"
   },
   "outputs": [],
   "source": [
    "# see the invalid:\n",
    "MunisS_brazil[~MunisS_brazil.is_valid].plot()"
   ]
  },
  {
   "cell_type": "markdown",
   "id": "735abaa5",
   "metadata": {
    "id": "735abaa5"
   },
   "source": [
    "It is difficult to see what is wrong. Let's get some information:"
   ]
  },
  {
   "cell_type": "code",
   "execution_count": null,
   "id": "7c6591e0",
   "metadata": {
    "colab": {
     "base_uri": "https://localhost:8080/",
     "height": 458
    },
    "id": "7c6591e0",
    "outputId": "f5881f99-79d1-431f-e3ff-4e1fb9e613d4"
   },
   "outputs": [],
   "source": [
    "# what is wrong?\n",
    "\n",
    "from shapely.validation import explain_validity, make_valid\n",
    "\n",
    "explain_validity(MunisS_brazil[~MunisS_brazil.is_valid].geometry)"
   ]
  },
  {
   "cell_type": "code",
   "execution_count": null,
   "id": "6d90a783",
   "metadata": {
    "colab": {
     "base_uri": "https://localhost:8080/",
     "height": 285
    },
    "id": "6d90a783",
    "outputId": "1536397f-cd93-4d42-ce19-dc3bd7cd5dfe"
   },
   "outputs": [],
   "source": [
    "# varieties?\n",
    "MunisS_brazil['validity']=[x.split('[')[0] for x in MunisS_brazil.geometry.apply(lambda x: explain_validity(x))]\n",
    "MunisS_brazil['validity'].value_counts()"
   ]
  },
  {
   "cell_type": "code",
   "execution_count": null,
   "id": "d69f261b",
   "metadata": {
    "colab": {
     "base_uri": "https://localhost:8080/",
     "height": 142
    },
    "id": "d69f261b",
    "outputId": "fa739ed0-bd09-444b-cf31-555254c97afa"
   },
   "outputs": [],
   "source": [
    "# solving the issue:\n",
    "MunisS_brazil.drop(columns=['validity'],inplace=True)\n",
    "\n",
    "MunisS_brazil_valid=MunisS_brazil.copy()\n",
    "\n",
    "MunisS_brazil_valid['geometry'] = [make_valid(row)  if not row.is_valid else row for row in MunisS_brazil_valid['geometry'] ]\n",
    "#any invalid?\n",
    "MunisS_brazil_valid[~MunisS_brazil_valid.is_valid]"
   ]
  },
  {
   "cell_type": "markdown",
   "id": "cfa45bcf",
   "metadata": {
    "id": "cfa45bcf"
   },
   "source": [
    "The _solution_ we got may help for some advanced techniques, but may also give us some extra trouble. Notice that once geopandas solved the problem, you  have created **collections**:"
   ]
  },
  {
   "cell_type": "code",
   "execution_count": null,
   "id": "c072a9dc-411c-4d7d-a94b-0c2f2de9cf97",
   "metadata": {
    "colab": {
     "base_uri": "https://localhost:8080/",
     "height": 178
    },
    "id": "c072a9dc-411c-4d7d-a94b-0c2f2de9cf97",
    "outputId": "3f5c6824-39e4-4cbd-cd03-e0417184bae5"
   },
   "outputs": [],
   "source": [
    "pd.Series([type(x) for x in MunisS_brazil_valid.geometry]).value_counts()"
   ]
  },
  {
   "cell_type": "markdown",
   "id": "Cjc9MDEdB_Go",
   "metadata": {
    "id": "Cjc9MDEdB_Go"
   },
   "source": [
    "## The Buffer\n",
    "\n",
    "The buffer will create polygon that follows the same shape of the original vector (line, polygon, point).\n"
   ]
  },
  {
   "cell_type": "code",
   "execution_count": null,
   "id": "b9dXwRtkCDAp",
   "metadata": {
    "colab": {
     "base_uri": "https://localhost:8080/",
     "height": 448
    },
    "id": "b9dXwRtkCDAp",
    "outputId": "96809c19-6d72-4709-b320-7a14705c7471"
   },
   "outputs": [],
   "source": [
    "# this is the original\n",
    "riversBrazil_clipped.plot()"
   ]
  },
  {
   "cell_type": "markdown",
   "id": "UQWZpvMwGEFm",
   "metadata": {
    "id": "UQWZpvMwGEFm"
   },
   "source": [
    "But, verify crs as we are going to use distances:"
   ]
  },
  {
   "cell_type": "code",
   "execution_count": null,
   "id": "OhNjrHJ3CMDs",
   "metadata": {
    "colab": {
     "base_uri": "https://localhost:8080/"
    },
    "id": "OhNjrHJ3CMDs",
    "outputId": "0702d280-ae78-48e6-8d47-dee4680c3ff7"
   },
   "outputs": [],
   "source": [
    "riversBrazil_clipped.crs"
   ]
  },
  {
   "cell_type": "markdown",
   "id": "y-b6jS3lGi3M",
   "metadata": {
    "id": "y-b6jS3lGi3M"
   },
   "source": [
    "Let's reproject:"
   ]
  },
  {
   "cell_type": "code",
   "execution_count": null,
   "id": "f7qwplLMDbz6",
   "metadata": {
    "id": "f7qwplLMDbz6"
   },
   "outputs": [],
   "source": [
    "riversBrazil_5880=riversBrazil_clipped.copy()\n",
    "riversBrazil_5880 = riversBrazil_5880.to_crs('EPSG:5880')"
   ]
  },
  {
   "cell_type": "markdown",
   "id": "tvarDeceGlbw",
   "metadata": {
    "id": "tvarDeceGlbw"
   },
   "source": [
    "Now I can use the rivers to create a buffer of 50000 meters:"
   ]
  },
  {
   "cell_type": "code",
   "execution_count": null,
   "id": "y8q7Zx6EDpOZ",
   "metadata": {
    "colab": {
     "base_uri": "https://localhost:8080/",
     "height": 481
    },
    "id": "y8q7Zx6EDpOZ",
    "outputId": "f1a8c25a-0aba-4b72-8887-cfdd61d2cc37"
   },
   "outputs": [],
   "source": [
    "# 50000 at each side (radius)\n",
    "riversBrazil_5880.buffer(50000).plot(facecolor='yellow', edgecolor='black',linewidth=0.2)"
   ]
  },
  {
   "cell_type": "markdown",
   "id": "Kof-yyMHHfGA",
   "metadata": {
    "id": "Kof-yyMHHfGA"
   },
   "source": [
    "Then"
   ]
  },
  {
   "cell_type": "code",
   "execution_count": null,
   "id": "5P8nF3cYEDdV",
   "metadata": {
    "colab": {
     "base_uri": "https://localhost:8080/",
     "height": 481
    },
    "id": "5P8nF3cYEDdV",
    "outputId": "f43f5902-3d68-43b6-fa35-d60552053abb"
   },
   "outputs": [],
   "source": [
    "base=riversBrazil_5880.buffer(50000).plot(facecolor='orange', linewidth=0.2)\n",
    "riversBrazil_5880.plot( edgecolor='grey',ax=base)"
   ]
  },
  {
   "cell_type": "markdown",
   "id": "65x2T7riHonF",
   "metadata": {
    "id": "65x2T7riHonF"
   },
   "source": [
    "The buffering process helps cleaning simple invalidities:"
   ]
  },
  {
   "cell_type": "code",
   "execution_count": null,
   "id": "PAj05ydv8_hF",
   "metadata": {
    "colab": {
     "base_uri": "https://localhost:8080/",
     "height": 53
    },
    "id": "PAj05ydv8_hF",
    "outputId": "16bb514d-4673-4b56-dab4-8f45c51535ad"
   },
   "outputs": [],
   "source": [
    "MunisS_brazil_valid=MunisS_brazil.copy()\n",
    "\n",
    "MunisS_brazil_valid['geometry'] = MunisS_brazil_valid['geometry'].buffer(0)\n",
    "\n",
    "#any invalid?\n",
    "MunisS_brazil_valid[~MunisS_brazil_valid.is_valid]"
   ]
  },
  {
   "cell_type": "markdown",
   "id": "RpsYAg9wH5cs",
   "metadata": {
    "id": "RpsYAg9wH5cs"
   },
   "source": [
    "Comparing with the previous result, this time you got no collections:"
   ]
  },
  {
   "cell_type": "code",
   "execution_count": null,
   "id": "xPlJE1L7FNdb",
   "metadata": {
    "colab": {
     "base_uri": "https://localhost:8080/",
     "height": 147
    },
    "id": "xPlJE1L7FNdb",
    "outputId": "3912168c-d9c2-44e9-82d4-e9cd99eeec4a"
   },
   "outputs": [],
   "source": [
    "# then:\n",
    "pd.Series([type(x) for x in MunisS_brazil_valid.geometry]).value_counts()"
   ]
  },
  {
   "cell_type": "markdown",
   "id": "zDnnoMc7ICYW",
   "metadata": {
    "id": "zDnnoMc7ICYW"
   },
   "source": [
    "This 'buffer trick' may not always work:"
   ]
  },
  {
   "cell_type": "code",
   "execution_count": null,
   "id": "-bOp4B4F9sDN",
   "metadata": {
    "colab": {
     "base_uri": "https://localhost:8080/",
     "height": 540
    },
    "id": "-bOp4B4F9sDN",
    "outputId": "cebf92a3-3962-434d-c5af-13d1f905cb4d"
   },
   "outputs": [],
   "source": [
    "# previously\n",
    "indicators.dissolve(\n",
    "     by=\"region\",\n",
    "     aggfunc={\n",
    "         \"fragility\": [\"mean\"]},as_index=False\n",
    " ).plot(column =('fragility', 'mean'),scheme='quantiles', cmap='OrRd_r',\n",
    "                        legend=True,\n",
    "                        legend_kwds={\"title\": \"Fragility\",'loc': 'lower left'},\n",
    "                        edgecolor='black',linewidth=0.2,\n",
    "                        figsize=(15, 10))"
   ]
  },
  {
   "cell_type": "markdown",
   "id": "G7eQNSJJIKl-",
   "metadata": {
    "id": "G7eQNSJJIKl-"
   },
   "source": [
    "Notice that AFRICA has some lines that should have dissappeared after dissolving, but you can still see some lines.\n",
    "\n",
    "We could try the buffer trick:"
   ]
  },
  {
   "cell_type": "code",
   "execution_count": null,
   "id": "TXpvyu_d9umU",
   "metadata": {
    "colab": {
     "base_uri": "https://localhost:8080/",
     "height": 540
    },
    "id": "TXpvyu_d9umU",
    "outputId": "a9ed632f-487c-488c-93cd-b918cb64422a"
   },
   "outputs": [],
   "source": [
    "indicators_valid=indicators.copy()\n",
    "indicators_valid['geometry'] = indicators_valid['geometry'].buffer(0)\n",
    "dissolved_gdf=indicators_valid.dissolve(\n",
    "     by=\"region\",\n",
    "     aggfunc={\n",
    "         \"fragility\": [\"mean\"]},as_index=False, grid_size=0.1\n",
    " )\n",
    "\n",
    "\n",
    "\n",
    "\n",
    "dissolved_gdf.plot(column =('fragility', 'mean'),scheme='quantiles', cmap='OrRd_r',\n",
    "                        legend=True,\n",
    "                        legend_kwds={\"title\": \"Fragility\",'loc': 'lower left'},\n",
    "                        edgecolor='black',linewidth=0.2,\n",
    "                        figsize=(15, 10))"
   ]
  },
  {
   "cell_type": "markdown",
   "id": "Ng_3aPjpIc6M",
   "metadata": {
    "id": "Ng_3aPjpIc6M"
   },
   "source": [
    "It did not work either. We may use a new functionality in GeoPandas's dissolve:"
   ]
  },
  {
   "cell_type": "code",
   "execution_count": null,
   "id": "oTved9a8-UH8",
   "metadata": {
    "colab": {
     "base_uri": "https://localhost:8080/",
     "height": 540
    },
    "id": "oTved9a8-UH8",
    "outputId": "66fc8de2-37c0-423c-d7ab-6b6ca85d99b2"
   },
   "outputs": [],
   "source": [
    "dissolved_gdf=indicators.dissolve(\n",
    "     by=\"region\",\n",
    "     aggfunc={\n",
    "         \"fragility\": [\"mean\"]},as_index=False, grid_size=0.1\n",
    " )\n",
    "\n",
    "\n",
    "\n",
    "\n",
    "dissolved_gdf.plot(column =('fragility', 'mean'),scheme='quantiles', cmap='OrRd_r',\n",
    "                        legend=True,\n",
    "                        legend_kwds={\"title\": \"Fragility\",'loc': 'lower left'},\n",
    "                        edgecolor='black',linewidth=0.2,\n",
    "                        figsize=(15, 10))"
   ]
  },
  {
   "cell_type": "markdown",
   "id": "rdsk7MTUItrn",
   "metadata": {
    "id": "rdsk7MTUItrn"
   },
   "source": [
    "Now, you do see a clean map."
   ]
  }
 ],
 "metadata": {
  "anaconda-cloud": {
   "attach-environment": true,
   "summary": "test"
  },
  "colab": {
   "provenance": []
  },
  "hide_input": false,
  "jupytext": {
   "cell_metadata_filter": "-all",
   "notebook_metadata_filter": "-all"
  },
  "kernelspec": {
   "display_name": "Python 3 (ipykernel)",
   "language": "python",
   "name": "python3"
  },
  "language_info": {
   "codemirror_mode": {
    "name": "ipython",
    "version": 3
   },
   "file_extension": ".py",
   "mimetype": "text/x-python",
   "name": "python",
   "nbconvert_exporter": "python",
   "pygments_lexer": "ipython3",
   "version": "3.11.8"
  },
  "toc-autonumbering": false
 },
 "nbformat": 4,
 "nbformat_minor": 5
}
